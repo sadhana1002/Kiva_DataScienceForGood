{
 "cells": [
  {
   "cell_type": "code",
   "execution_count": 1,
   "metadata": {
    "collapsed": true
   },
   "outputs": [],
   "source": [
    "import pandas as pd"
   ]
  },
  {
   "cell_type": "code",
   "execution_count": 3,
   "metadata": {},
   "outputs": [
    {
     "data": {
      "text/plain": [
       "Index(['Unnamed: 0', 'loan_id', 'status', 'activity_name', 'sector_name',\n",
       "       'loan_use', 'country_code', 'country_name', 'partner_id', 'posted_time',\n",
       "       'disburse_time', 'raised_time', 'lender_term', 'num_lenders_total',\n",
       "       'repayment_interval', 'shortage_fund', 'female_count', 'male_count',\n",
       "       'borrower_count', 'funded_amount_usd', 'loan_amount_usd'],\n",
       "      dtype='object')"
      ]
     },
     "execution_count": 3,
     "metadata": {},
     "output_type": "execute_result"
    }
   ],
   "source": [
    "clean_loans = pd.read_csv('clean_loans.csv')\n",
    "\n",
    "clean_loans.columns"
   ]
  },
  {
   "cell_type": "code",
   "execution_count": 4,
   "metadata": {
    "collapsed": true
   },
   "outputs": [],
   "source": [
    "clean_loans_df = clean_loans[['loan_id', 'status', 'activity_name', 'sector_name','country_code', 'country_name', 'partner_id', 'posted_time',\n",
    "       'disburse_time', 'raised_time', 'lender_term', 'num_lenders_total',\n",
    "       'repayment_interval', 'shortage_fund', 'female_count', 'male_count',\n",
    "       'borrower_count', 'funded_amount_usd', 'loan_amount_usd']]"
   ]
  },
  {
   "cell_type": "code",
   "execution_count": 5,
   "metadata": {},
   "outputs": [
    {
     "data": {
      "text/html": [
       "<div>\n",
       "<style>\n",
       "    .dataframe thead tr:only-child th {\n",
       "        text-align: right;\n",
       "    }\n",
       "\n",
       "    .dataframe thead th {\n",
       "        text-align: left;\n",
       "    }\n",
       "\n",
       "    .dataframe tbody tr th {\n",
       "        vertical-align: top;\n",
       "    }\n",
       "</style>\n",
       "<table border=\"1\" class=\"dataframe\">\n",
       "  <thead>\n",
       "    <tr style=\"text-align: right;\">\n",
       "      <th></th>\n",
       "      <th>loan_id</th>\n",
       "      <th>status</th>\n",
       "      <th>activity_name</th>\n",
       "      <th>sector_name</th>\n",
       "      <th>country_code</th>\n",
       "      <th>country_name</th>\n",
       "      <th>partner_id</th>\n",
       "      <th>posted_time</th>\n",
       "      <th>disburse_time</th>\n",
       "      <th>raised_time</th>\n",
       "      <th>lender_term</th>\n",
       "      <th>num_lenders_total</th>\n",
       "      <th>repayment_interval</th>\n",
       "      <th>shortage_fund</th>\n",
       "      <th>female_count</th>\n",
       "      <th>male_count</th>\n",
       "      <th>borrower_count</th>\n",
       "      <th>funded_amount_usd</th>\n",
       "      <th>loan_amount_usd</th>\n",
       "    </tr>\n",
       "  </thead>\n",
       "  <tbody>\n",
       "    <tr>\n",
       "      <th>0</th>\n",
       "      <td>657307</td>\n",
       "      <td>funded</td>\n",
       "      <td>General Store</td>\n",
       "      <td>Retail</td>\n",
       "      <td>PH</td>\n",
       "      <td>Philippines</td>\n",
       "      <td>126.0</td>\n",
       "      <td>2014-01-15 02:23:45</td>\n",
       "      <td>2013-12-22 08:00:00</td>\n",
       "      <td>2014-01-15 04:48:22</td>\n",
       "      <td>7.0</td>\n",
       "      <td>3</td>\n",
       "      <td>irregular</td>\n",
       "      <td>0.0</td>\n",
       "      <td>1</td>\n",
       "      <td>0</td>\n",
       "      <td>1</td>\n",
       "      <td>2.497770</td>\n",
       "      <td>2.497770</td>\n",
       "    </tr>\n",
       "    <tr>\n",
       "      <th>1</th>\n",
       "      <td>656933</td>\n",
       "      <td>funded</td>\n",
       "      <td>Farming</td>\n",
       "      <td>Agriculture</td>\n",
       "      <td>PH</td>\n",
       "      <td>Philippines</td>\n",
       "      <td>123.0</td>\n",
       "      <td>2014-01-14 05:46:21</td>\n",
       "      <td>2013-12-17 08:00:00</td>\n",
       "      <td>2014-01-14 17:29:27</td>\n",
       "      <td>7.0</td>\n",
       "      <td>15</td>\n",
       "      <td>bullet</td>\n",
       "      <td>0.0</td>\n",
       "      <td>0</td>\n",
       "      <td>1</td>\n",
       "      <td>1</td>\n",
       "      <td>8.492419</td>\n",
       "      <td>8.492419</td>\n",
       "    </tr>\n",
       "    <tr>\n",
       "      <th>2</th>\n",
       "      <td>659605</td>\n",
       "      <td>funded</td>\n",
       "      <td>Farming</td>\n",
       "      <td>Agriculture</td>\n",
       "      <td>PH</td>\n",
       "      <td>Philippines</td>\n",
       "      <td>136.0</td>\n",
       "      <td>2014-01-21 01:09:34</td>\n",
       "      <td>2014-01-15 08:00:00</td>\n",
       "      <td>2014-01-21 03:12:06</td>\n",
       "      <td>8.0</td>\n",
       "      <td>13</td>\n",
       "      <td>monthly</td>\n",
       "      <td>0.0</td>\n",
       "      <td>1</td>\n",
       "      <td>0</td>\n",
       "      <td>1</td>\n",
       "      <td>6.993757</td>\n",
       "      <td>6.993757</td>\n",
       "    </tr>\n",
       "    <tr>\n",
       "      <th>3</th>\n",
       "      <td>660240</td>\n",
       "      <td>funded</td>\n",
       "      <td>Agriculture</td>\n",
       "      <td>Agriculture</td>\n",
       "      <td>PH</td>\n",
       "      <td>Philippines</td>\n",
       "      <td>136.0</td>\n",
       "      <td>2014-01-22 03:43:12</td>\n",
       "      <td>2014-01-20 08:00:00</td>\n",
       "      <td>2014-01-22 10:35:41</td>\n",
       "      <td>8.0</td>\n",
       "      <td>4</td>\n",
       "      <td>irregular</td>\n",
       "      <td>0.0</td>\n",
       "      <td>1</td>\n",
       "      <td>0</td>\n",
       "      <td>1</td>\n",
       "      <td>2.497770</td>\n",
       "      <td>2.497770</td>\n",
       "    </tr>\n",
       "    <tr>\n",
       "      <th>4</th>\n",
       "      <td>661960</td>\n",
       "      <td>funded</td>\n",
       "      <td>Farming</td>\n",
       "      <td>Agriculture</td>\n",
       "      <td>PH</td>\n",
       "      <td>Philippines</td>\n",
       "      <td>126.0</td>\n",
       "      <td>2014-01-26 23:05:52</td>\n",
       "      <td>2014-01-23 08:00:00</td>\n",
       "      <td>2014-01-27 02:24:03</td>\n",
       "      <td>10.0</td>\n",
       "      <td>13</td>\n",
       "      <td>irregular</td>\n",
       "      <td>0.0</td>\n",
       "      <td>1</td>\n",
       "      <td>0</td>\n",
       "      <td>1</td>\n",
       "      <td>6.993757</td>\n",
       "      <td>6.993757</td>\n",
       "    </tr>\n",
       "  </tbody>\n",
       "</table>\n",
       "</div>"
      ],
      "text/plain": [
       "   loan_id  status  activity_name  sector_name country_code country_name  \\\n",
       "0   657307  funded  General Store       Retail           PH  Philippines   \n",
       "1   656933  funded        Farming  Agriculture           PH  Philippines   \n",
       "2   659605  funded        Farming  Agriculture           PH  Philippines   \n",
       "3   660240  funded    Agriculture  Agriculture           PH  Philippines   \n",
       "4   661960  funded        Farming  Agriculture           PH  Philippines   \n",
       "\n",
       "   partner_id          posted_time        disburse_time          raised_time  \\\n",
       "0       126.0  2014-01-15 02:23:45  2013-12-22 08:00:00  2014-01-15 04:48:22   \n",
       "1       123.0  2014-01-14 05:46:21  2013-12-17 08:00:00  2014-01-14 17:29:27   \n",
       "2       136.0  2014-01-21 01:09:34  2014-01-15 08:00:00  2014-01-21 03:12:06   \n",
       "3       136.0  2014-01-22 03:43:12  2014-01-20 08:00:00  2014-01-22 10:35:41   \n",
       "4       126.0  2014-01-26 23:05:52  2014-01-23 08:00:00  2014-01-27 02:24:03   \n",
       "\n",
       "   lender_term  num_lenders_total repayment_interval  shortage_fund  \\\n",
       "0          7.0                  3          irregular            0.0   \n",
       "1          7.0                 15             bullet            0.0   \n",
       "2          8.0                 13            monthly            0.0   \n",
       "3          8.0                  4          irregular            0.0   \n",
       "4         10.0                 13          irregular            0.0   \n",
       "\n",
       "   female_count  male_count  borrower_count  funded_amount_usd  \\\n",
       "0             1           0               1           2.497770   \n",
       "1             0           1               1           8.492419   \n",
       "2             1           0               1           6.993757   \n",
       "3             1           0               1           2.497770   \n",
       "4             1           0               1           6.993757   \n",
       "\n",
       "   loan_amount_usd  \n",
       "0         2.497770  \n",
       "1         8.492419  \n",
       "2         6.993757  \n",
       "3         2.497770  \n",
       "4         6.993757  "
      ]
     },
     "execution_count": 5,
     "metadata": {},
     "output_type": "execute_result"
    }
   ],
   "source": [
    "clean_loans_df.head()"
   ]
  },
  {
   "cell_type": "code",
   "execution_count": 17,
   "metadata": {},
   "outputs": [
    {
     "data": {
      "text/plain": [
       "<matplotlib.axes._subplots.AxesSubplot at 0x2409147b630>"
      ]
     },
     "execution_count": 17,
     "metadata": {},
     "output_type": "execute_result"
    }
   ],
   "source": [
    "clean_loans_df['num_lenders_total'].plot(kind='hist',bins=range(0,200,2),figsize=(20,10))"
   ]
  },
  {
   "cell_type": "code",
   "execution_count": 18,
   "metadata": {},
   "outputs": [
    {
     "data": {
      "image/png": "[encoded data removed]",
      "text/plain": [
       "<matplotlib.figure.Figure at 0x2408ee8c048>"
      ]
     },
     "metadata": {},
     "output_type": "display_data"
    }
   ],
   "source": [
    "import matplotlib.pyplot as plt\n",
    "\n",
    "plt.show()"
   ]
  },
  {
   "cell_type": "code",
   "execution_count": 28,
   "metadata": {},
   "outputs": [
    {
     "data": {
      "image/png": "[encoded data removed]",
      "text/plain": [
       "<matplotlib.figure.Figure at 0x24089d01240>"
      ]
     },
     "metadata": {},
     "output_type": "display_data"
    },
    {
     "data": {
      "image/png": "[encoded data removed]",
      "text/plain": [
       "<matplotlib.figure.Figure at 0x24089a53fd0>"
      ]
     },
     "metadata": {},
     "output_type": "display_data"
    },
    {
     "ename": "ValueError",
     "evalue": "Using arbitrary long args with data is not supported due to ambiguity of arguments.\nUse multiple plotting calls instead.",
     "output_type": "error",
     "traceback": [
      "\u001b[1;31m---------------------------------------------------------------------------\u001b[0m",
      "\u001b[1;31mValueError\u001b[0m                                Traceback (most recent call last)",
      "\u001b[1;32m<ipython-input-28-41b56a84a746>\u001b[0m in \u001b[0;36m<module>\u001b[1;34m()\u001b[0m\n\u001b[0;32m      5\u001b[0m \u001b[0mplt\u001b[0m\u001b[1;33m.\u001b[0m\u001b[0mshow\u001b[0m\u001b[1;33m(\u001b[0m\u001b[1;33m)\u001b[0m\u001b[1;33m\u001b[0m\u001b[0m\n\u001b[0;32m      6\u001b[0m \u001b[1;33m\u001b[0m\u001b[0m\n\u001b[1;32m----> 7\u001b[1;33m \u001b[0mplt\u001b[0m\u001b[1;33m.\u001b[0m\u001b[0mplot\u001b[0m\u001b[1;33m(\u001b[0m\u001b[0mdata\u001b[0m\u001b[1;33m=\u001b[0m\u001b[0mclean_loans_df\u001b[0m\u001b[1;33m,\u001b[0m\u001b[0my\u001b[0m\u001b[1;33m=\u001b[0m\u001b[1;34m'num_lenders_total'\u001b[0m\u001b[1;33m,\u001b[0m\u001b[0mx\u001b[0m\u001b[1;33m=\u001b[0m\u001b[1;34m'lender_term'\u001b[0m\u001b[1;33m,\u001b[0m \u001b[0mc\u001b[0m\u001b[1;33m=\u001b[0m\u001b[1;34m'b'\u001b[0m\u001b[1;33m)\u001b[0m\u001b[1;33m\u001b[0m\u001b[0m\n\u001b[0m\u001b[0;32m      8\u001b[0m \u001b[0mplt\u001b[0m\u001b[1;33m.\u001b[0m\u001b[0mshow\u001b[0m\u001b[1;33m(\u001b[0m\u001b[1;33m)\u001b[0m\u001b[1;33m\u001b[0m\u001b[0m\n\u001b[0;32m      9\u001b[0m \u001b[1;33m\u001b[0m\u001b[0m\n",
      "\u001b[1;32m~\\Anaconda3\\envs\\py36\\lib\\site-packages\\matplotlib\\pyplot.py\u001b[0m in \u001b[0;36mplot\u001b[1;34m(*args, **kwargs)\u001b[0m\n\u001b[0;32m   3315\u001b[0m                       mplDeprecation)\n\u001b[0;32m   3316\u001b[0m     \u001b[1;32mtry\u001b[0m\u001b[1;33m:\u001b[0m\u001b[1;33m\u001b[0m\u001b[0m\n\u001b[1;32m-> 3317\u001b[1;33m         \u001b[0mret\u001b[0m \u001b[1;33m=\u001b[0m \u001b[0max\u001b[0m\u001b[1;33m.\u001b[0m\u001b[0mplot\u001b[0m\u001b[1;33m(\u001b[0m\u001b[1;33m*\u001b[0m\u001b[0margs\u001b[0m\u001b[1;33m,\u001b[0m \u001b[1;33m**\u001b[0m\u001b[0mkwargs\u001b[0m\u001b[1;33m)\u001b[0m\u001b[1;33m\u001b[0m\u001b[0m\n\u001b[0m\u001b[0;32m   3318\u001b[0m     \u001b[1;32mfinally\u001b[0m\u001b[1;33m:\u001b[0m\u001b[1;33m\u001b[0m\u001b[0m\n\u001b[0;32m   3319\u001b[0m         \u001b[0max\u001b[0m\u001b[1;33m.\u001b[0m\u001b[0m_hold\u001b[0m \u001b[1;33m=\u001b[0m \u001b[0mwashold\u001b[0m\u001b[1;33m\u001b[0m\u001b[0m\n",
      "\u001b[1;32m~\\Anaconda3\\envs\\py36\\lib\\site-packages\\matplotlib\\__init__.py\u001b[0m in \u001b[0;36minner\u001b[1;34m(ax, *args, **kwargs)\u001b[0m\n\u001b[0;32m   1834\u001b[0m                     \u001b[1;31m# update the information about replace names and\u001b[0m\u001b[1;33m\u001b[0m\u001b[1;33m\u001b[0m\u001b[0m\n\u001b[0;32m   1835\u001b[0m                     \u001b[1;31m# label position\u001b[0m\u001b[1;33m\u001b[0m\u001b[1;33m\u001b[0m\u001b[0m\n\u001b[1;32m-> 1836\u001b[1;33m                     \u001b[0m_arg_names\u001b[0m \u001b[1;33m=\u001b[0m \u001b[0mpositional_parameter_names\u001b[0m\u001b[1;33m(\u001b[0m\u001b[0margs\u001b[0m\u001b[1;33m,\u001b[0m \u001b[0mdata\u001b[0m\u001b[1;33m)\u001b[0m\u001b[1;33m\u001b[0m\u001b[0m\n\u001b[0m\u001b[0;32m   1837\u001b[0m                     if (label_namer and  # we actually want a label here ...\n\u001b[0;32m   1838\u001b[0m                             \u001b[0m_arg_names\u001b[0m \u001b[1;32mand\u001b[0m  \u001b[1;31m# and we can find a label in *args\u001b[0m\u001b[1;33m\u001b[0m\u001b[0m\n",
      "\u001b[1;32m~\\Anaconda3\\envs\\py36\\lib\\site-packages\\matplotlib\\axes\\_axes.py\u001b[0m in \u001b[0;36m_plot_args_replacer\u001b[1;34m(args, data)\u001b[0m\n\u001b[0;32m     83\u001b[0m         \u001b[1;32mreturn\u001b[0m \u001b[1;33m[\u001b[0m\u001b[1;34m\"x\"\u001b[0m\u001b[1;33m,\u001b[0m \u001b[1;34m\"y\"\u001b[0m\u001b[1;33m,\u001b[0m \u001b[1;34m\"c\"\u001b[0m\u001b[1;33m]\u001b[0m\u001b[1;33m\u001b[0m\u001b[0m\n\u001b[0;32m     84\u001b[0m     \u001b[1;32melse\u001b[0m\u001b[1;33m:\u001b[0m\u001b[1;33m\u001b[0m\u001b[0m\n\u001b[1;32m---> 85\u001b[1;33m         raise ValueError(\"Using arbitrary long args with data is not \"\n\u001b[0m\u001b[0;32m     86\u001b[0m                          \u001b[1;34m\"supported due to ambiguity of arguments.\\nUse \"\u001b[0m\u001b[1;33m\u001b[0m\u001b[0m\n\u001b[0;32m     87\u001b[0m                          \"multiple plotting calls instead.\")\n",
      "\u001b[1;31mValueError\u001b[0m: Using arbitrary long args with data is not supported due to ambiguity of arguments.\nUse multiple plotting calls instead."
     ]
    }
   ],
   "source": [
    "plt.scatter(data=clean_loans_df,x='num_lenders_total',y='funded_amount_usd', c='b')\n",
    "plt.show()\n",
    "\n",
    "plt.scatter(data=clean_loans_df,x='num_lenders_total',y='loan_amount_usd', c='g')\n",
    "plt.show()\n"
   ]
  },
  {
   "cell_type": "code",
   "execution_count": null,
   "metadata": {},
   "outputs": [],
   "source": [
    "cat_cols = ['activity_name', 'sector_name','country_name','repayment_interval','currency_policy','status','distribution_model']\n",
    "\n",
    "for col in cat_cols:\n",
    "    col_amt = pd.DataFrame(loans.groupby(col)['num_lenders_total'].count())\n",
    "    col_amt = col_amt.sort_values('num_lenders_total', ascending=False)\n",
    "    plt.figure(figsize=(20,10))\n",
    "    col_amt.plot(kind='bar',figsize=(20, 10))\n",
    "    plt.xlabel(col)\n",
    "    plt.ylabel('Loan Amount')\n",
    "    plt.title(f'Bar_chart_{col}')\n",
    "    plt.savefig(f'plots/Bar_chart_{col}.jpg')\n",
    "    plt.show()"
   ]
  },
  {
   "cell_type": "code",
   "execution_count": null,
   "metadata": {
    "collapsed": true
   },
   "outputs": [],
   "source": []
  }
 ],
 "metadata": {
  "kernelspec": {
   "display_name": "Python 3",
   "language": "python",
   "name": "python3"
  },
  "language_info": {
   "codemirror_mode": {
    "name": "ipython",
    "version": 3
   },
   "file_extension": ".py",
   "mimetype": "text/x-python",
   "name": "python",
   "nbconvert_exporter": "python",
   "pygments_lexer": "ipython3",
   "version": "3.6.2"
  }
 },
 "nbformat": 4,
 "nbformat_minor": 2
}
